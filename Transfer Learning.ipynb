{
 "cells": [
  {
   "cell_type": "code",
   "execution_count": null,
   "metadata": {},
   "outputs": [],
   "source": [
    "%reload_ext autoreload\n",
    "%autoreload 2\n",
    "%matplotlib inline"
   ]
  },
  {
   "cell_type": "code",
   "execution_count": 1,
   "metadata": {},
   "outputs": [
    {
     "name": "stdout",
     "output_type": "stream",
     "text": [
      "last layer output shape:  (None, 7, 7, 768)\n"
     ]
    }
   ],
   "source": [
    "import os\n",
    "\n",
    "from tensorflow.keras import layers\n",
    "from tensorflow.keras import Model\n",
    "  \n",
    "from tensorflow.keras.applications.inception_v3 import InceptionV3\n",
    "\n",
    "local_weights_file = '/run/media/ap_tech/ap@tech/DeepLearing_AI/CNN_IN_TENSORFLOW/inception_v3_weights_tf_dim_ordering_tf_kernels_notop.h5'\n",
    "\n",
    "pre_trained_model = InceptionV3(input_shape = (150, 150, 3), \n",
    "                                include_top = False, \n",
    "                                weights = None)\n",
    "\n",
    "pre_trained_model.load_weights(local_weights_file)\n",
    "\n",
    "for layer in pre_trained_model.layers:\n",
    "  layer.trainable = False\n",
    "  \n",
    "# pre_trained_model.summary()\n",
    "\n",
    "last_layer = pre_trained_model.get_layer('mixed7')\n",
    "print('last layer output shape: ', last_layer.output_shape)\n",
    "last_output = last_layer.output"
   ]
  },
  {
   "cell_type": "code",
   "execution_count": 2,
   "metadata": {},
   "outputs": [],
   "source": [
    "from tensorflow.keras.optimizers import RMSprop\n",
    "\n",
    "# Flatten the output layer to 1 dimension\n",
    "x = layers.Flatten()(last_output)\n",
    "# Add a fully connected layer with 1,024 hidden units and ReLU activation\n",
    "x = layers.Dense(1024, activation='relu')(x)\n",
    "# Add a dropout rate of 0.2\n",
    "x = layers.Dropout(0.2)(x)                  \n",
    "# Add a final sigmoid layer for classification\n",
    "x = layers.Dense  (1, activation='sigmoid')(x)           \n",
    "\n",
    "model = Model( pre_trained_model.input, x) \n",
    "\n",
    "model.compile(optimizer = RMSprop(lr=0.0001), \n",
    "              loss = 'binary_crossentropy', \n",
    "              metrics = ['accuracy'])"
   ]
  },
  {
   "cell_type": "code",
   "execution_count": 3,
   "metadata": {},
   "outputs": [
    {
     "name": "stdout",
     "output_type": "stream",
     "text": [
      "Found 2000 images belonging to 2 classes.\n",
      "Found 1000 images belonging to 2 classes.\n"
     ]
    }
   ],
   "source": [
    "from tensorflow.keras.preprocessing.image import ImageDataGenerator\n",
    "\n",
    "import os\n",
    "import zipfile\n",
    "\n",
    "# Define our example directories and files\n",
    "base_dir = '/run/media/ap_tech/ap@tech/DeepLearing_AI/CNN_IN_TENSORFLOW/cats_and_dogs_filtered/'\n",
    "\n",
    "train_dir = os.path.join( base_dir, 'train')\n",
    "validation_dir = os.path.join( base_dir, 'validation')\n",
    "\n",
    "\n",
    "train_cats_dir = os.path.join(train_dir, 'cats') # Directory with our training cat pictures\n",
    "train_dogs_dir = os.path.join(train_dir, 'dogs') # Directory with our training dog pictures\n",
    "validation_cats_dir = os.path.join(validation_dir, 'cats') # Directory with our validation cat pictures\n",
    "validation_dogs_dir = os.path.join(validation_dir, 'dogs')# Directory with our validation dog pictures\n",
    "\n",
    "train_cat_fnames = os.listdir(train_cats_dir)\n",
    "train_dog_fnames = os.listdir(train_dogs_dir)\n",
    "\n",
    "# Add our data-augmentation parameters to ImageDataGenerator\n",
    "train_datagen = ImageDataGenerator(rescale = 1./255.,\n",
    "                                   rotation_range = 40,\n",
    "                                   width_shift_range = 0.2,\n",
    "                                   height_shift_range = 0.2,\n",
    "                                   shear_range = 0.2,\n",
    "                                   zoom_range = 0.2,\n",
    "                                   horizontal_flip = True)\n",
    "\n",
    "# Note that the validation data should not be augmented!\n",
    "test_datagen = ImageDataGenerator( rescale = 1.0/255. )\n",
    "\n",
    "# Flow training images in batches of 20 using train_datagen generator\n",
    "train_generator = train_datagen.flow_from_directory(train_dir,\n",
    "                                                    batch_size = 20,\n",
    "                                                    class_mode = 'binary', \n",
    "                                                    target_size = (150, 150))     \n",
    "\n",
    "# Flow validation images in batches of 20 using test_datagen generator\n",
    "validation_generator =  test_datagen.flow_from_directory( validation_dir,\n",
    "                                                          batch_size  = 20,\n",
    "                                                          class_mode  = 'binary', \n",
    "                                                          target_size = (150, 150))"
   ]
  },
  {
   "cell_type": "code",
   "execution_count": 4,
   "metadata": {},
   "outputs": [
    {
     "name": "stdout",
     "output_type": "stream",
     "text": [
      "Train for 100 steps, validate for 50 steps\n",
      "Epoch 1/20\n",
      "100/100 - 132s - loss: 0.4691 - accuracy: 0.7845 - val_loss: 0.2346 - val_accuracy: 0.9250\n",
      "Epoch 2/20\n",
      "100/100 - 109s - loss: 0.3844 - accuracy: 0.8305 - val_loss: 0.4810 - val_accuracy: 0.8990\n",
      "Epoch 3/20\n",
      "100/100 - 108s - loss: 0.3590 - accuracy: 0.8550 - val_loss: 0.2825 - val_accuracy: 0.9390\n",
      "Epoch 4/20\n",
      "100/100 - 116s - loss: 0.3349 - accuracy: 0.8580 - val_loss: 0.2767 - val_accuracy: 0.9450\n",
      "Epoch 5/20\n",
      "100/100 - 98s - loss: 0.3117 - accuracy: 0.8840 - val_loss: 0.3670 - val_accuracy: 0.9390\n",
      "Epoch 6/20\n",
      "100/100 - 102s - loss: 0.2839 - accuracy: 0.8800 - val_loss: 0.4606 - val_accuracy: 0.9340\n",
      "Epoch 7/20\n",
      "100/100 - 84s - loss: 0.3074 - accuracy: 0.8745 - val_loss: 0.4462 - val_accuracy: 0.9380\n",
      "Epoch 8/20\n",
      "100/100 - 82s - loss: 0.2778 - accuracy: 0.8905 - val_loss: 0.3046 - val_accuracy: 0.9540\n",
      "Epoch 9/20\n",
      "100/100 - 99s - loss: 0.2743 - accuracy: 0.8865 - val_loss: 0.3350 - val_accuracy: 0.9540\n",
      "Epoch 10/20\n",
      "100/100 - 100s - loss: 0.2829 - accuracy: 0.8865 - val_loss: 0.4370 - val_accuracy: 0.9430\n",
      "Epoch 11/20\n",
      "100/100 - 101s - loss: 0.2783 - accuracy: 0.8740 - val_loss: 0.4789 - val_accuracy: 0.9430\n",
      "Epoch 12/20\n",
      "100/100 - 89s - loss: 0.2767 - accuracy: 0.8840 - val_loss: 0.5813 - val_accuracy: 0.9410\n",
      "Epoch 13/20\n",
      "100/100 - 85s - loss: 0.2580 - accuracy: 0.8965 - val_loss: 0.3532 - val_accuracy: 0.9550\n",
      "Epoch 14/20\n",
      "100/100 - 84s - loss: 0.2635 - accuracy: 0.8970 - val_loss: 0.3837 - val_accuracy: 0.9540\n",
      "Epoch 15/20\n",
      "100/100 - 82s - loss: 0.2622 - accuracy: 0.9020 - val_loss: 0.7316 - val_accuracy: 0.9310\n",
      "Epoch 16/20\n",
      "100/100 - 83s - loss: 0.2514 - accuracy: 0.8975 - val_loss: 0.5706 - val_accuracy: 0.9430\n",
      "Epoch 17/20\n",
      "100/100 - 81s - loss: 0.2310 - accuracy: 0.9090 - val_loss: 0.4939 - val_accuracy: 0.9520\n",
      "Epoch 18/20\n",
      "100/100 - 94s - loss: 0.2348 - accuracy: 0.9040 - val_loss: 0.3099 - val_accuracy: 0.9600\n",
      "Epoch 19/20\n",
      "100/100 - 101s - loss: 0.2523 - accuracy: 0.8995 - val_loss: 0.4212 - val_accuracy: 0.9580\n",
      "Epoch 20/20\n",
      "100/100 - 101s - loss: 0.2388 - accuracy: 0.9005 - val_loss: 0.3850 - val_accuracy: 0.9620\n"
     ]
    }
   ],
   "source": [
    "history = model.fit(\n",
    "            train_generator,\n",
    "            validation_data = validation_generator,\n",
    "            steps_per_epoch = 100,\n",
    "            epochs = 20,\n",
    "            validation_steps = 50,\n",
    "            verbose = 2)"
   ]
  },
  {
   "cell_type": "code",
   "execution_count": 5,
   "metadata": {},
   "outputs": [
    {
     "data": {
      "image/png": "[encoded data removed]",
      "text/plain": [
       "<Figure size 432x288 with 1 Axes>"
      ]
     },
     "metadata": {
      "needs_background": "light"
     },
     "output_type": "display_data"
    },
    {
     "data": {
      "text/plain": [
       "<Figure size 432x288 with 0 Axes>"
      ]
     },
     "metadata": {},
     "output_type": "display_data"
    }
   ],
   "source": [
    "import matplotlib.pyplot as plt\n",
    "acc = history.history['accuracy']\n",
    "val_acc = history.history['val_accuracy']\n",
    "loss = history.history['loss']\n",
    "val_loss = history.history['val_loss']\n",
    "\n",
    "epochs = range(len(acc))\n",
    "\n",
    "plt.plot(epochs, acc, 'r', label='Training accuracy')\n",
    "plt.plot(epochs, val_acc, 'b', label='Validation accuracy')\n",
    "plt.title('Training and validation accuracy')\n",
    "plt.legend(loc=0)\n",
    "plt.figure()\n",
    "\n",
    "\n",
    "plt.show()"
   ]
  },
  {
   "cell_type": "code",
   "execution_count": null,
   "metadata": {},
   "outputs": [],
   "source": [
    "%%javascript\n",
    "<!-- Save the notebook -->\n",
    "IPython.notebook.save_checkpoint();"
   ]
  },
  {
   "cell_type": "code",
   "execution_count": null,
   "metadata": {},
   "outputs": [],
   "source": []
  }
 ],
 "metadata": {
  "kernelspec": {
   "display_name": "Python 3",
   "language": "python",
   "name": "python3"
  },
  "language_info": {
   "codemirror_mode": {
    "name": "ipython",
    "version": 3
   },
   "file_extension": ".py",
   "mimetype": "text/x-python",
   "name": "python",
   "nbconvert_exporter": "python",
   "pygments_lexer": "ipython3",
   "version": "3.7.6"
  }
 },
 "nbformat": 4,
 "nbformat_minor": 4
}
